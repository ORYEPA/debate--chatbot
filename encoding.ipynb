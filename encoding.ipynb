{
 "cells": [
  {
   "cell_type": "code",
   "execution_count": 1,
   "id": "a8da14b7",
   "metadata": {},
   "outputs": [
    {
     "name": "stdout",
     "output_type": "stream",
     "text": [
      "gist matin a2633e3f05d21e625e65c8912946e176\n"
     ]
    }
   ],
   "source": [
    "import base64\n",
    "\n",
    "texto = \"XK8bEAZ=lEX>K54GBz_aWiw_lHDod|Wi~Q3Wi~ZqI5{ygIW#t9F*h~\"\n",
    "\n",
    "claro = base64.b85decode(texto).decode(\"utf-8\", errors=\"replace\")\n",
    "print(claro)\n"
   ]
  },
  {
   "cell_type": "markdown",
   "id": "0404398f",
   "metadata": {},
   "source": [
    "Base64"
   ]
  },
  {
   "cell_type": "code",
   "execution_count": null,
   "id": "784fe92f",
   "metadata": {},
   "outputs": [
    {
     "name": "stdout",
     "output_type": "stream",
     "text": [
      "Decodificado: gist matin a2633e3f05d21e625e65c8912946e176\n",
      "Gist ID: a2633e3f05d21e625e65c8912946e176\n",
      "\n",
      "=== Metadatos del Gist ===\n",
      "Descripción: \n",
      "Público: False\n",
      "Autor: matin\n",
      "URL web: https://gist.github.com/matin/a2633e3f05d21e625e65c8912946e176\n",
      "\n",
      "Listo.\n"
     ]
    }
   ],
   "source": [
    "import base64\n",
    "import json\n",
    "import os\n",
    "import re\n",
    "import sys\n",
    "import urllib.request\n",
    "import urllib.error\n",
    "\n",
    "TEXT = \"XK8bEAZ=lEX>K54GBz_aWiw_lHDod|Wi~Q3Wi~ZqI5{ygIW#t9F*h~\"\n",
    "\n",
    "decoded = base64.b85decode(TEXT).decode(\"utf-8\", errors=\"replace\")\n",
    "print(\"Decodificado:\", decoded)\n",
    "\n",
    "m = re.search(r\"\\b[a-fA-F0-9]{32}\\b\", decoded)\n",
    "if not m:\n",
    "    print(\"No encontré un ID de 32 caracteres hex en el texto.\")\n",
    "    sys.exit(1)\n",
    "gist_id = m.group(0)\n",
    "print(\"Gist ID:\", gist_id)\n",
    "\n",
    "api_url = f\"https://api.github.com/gists/{gist_id}\"\n",
    "req = urllib.request.Request(api_url, headers={\n",
    "    \"Accept\": \"application/vnd.github+json\",\n",
    "    \"User-Agent\": \"python-urllib/3\",\n",
    "})\n",
    "\n",
    "token = os.getenv(\"GITHUB_TOKEN\")\n",
    "if token:\n",
    "    req.add_header(\"Authorization\", f\"Bearer {token}\")\n",
    "\n",
    "try:\n",
    "    with urllib.request.urlopen(req) as resp:\n",
    "        data = json.load(resp)\n",
    "except urllib.error.HTTPError as e:\n",
    "    if e.code == 404:\n",
    "        print(\"El Gist no existe o es privado (404).\")\n",
    "    elif e.code == 403:\n",
    "        print(\"Límite de tasa (403). Define GITHUB_TOKEN para autenticarte.\")\n",
    "    else:\n",
    "        print(f\"HTTPError {e.code}:\", e.read().decode(errors=\"ignore\"))\n",
    "    sys.exit(1)\n",
    "\n",
    "print(\"\\n=== Metadatos del Gist ===\")\n",
    "print(\"Descripción:\", data.get(\"description\"))\n",
    "print(\"Público:\", data.get(\"public\"))\n",
    "owner = (data.get(\"owner\") or {}).get(\"login\")\n",
    "print(\"Autor:\", owner)\n",
    "print(\"URL web:\", data.get(\"html_url\"))\n",
    "\n",
    "print(\"\\nListo.\")\n"
   ]
  }
 ],
 "metadata": {
  "kernelspec": {
   "display_name": "Python 3",
   "language": "python",
   "name": "python3"
  },
  "language_info": {
   "codemirror_mode": {
    "name": "ipython",
    "version": 3
   },
   "file_extension": ".py",
   "mimetype": "text/x-python",
   "name": "python",
   "nbconvert_exporter": "python",
   "pygments_lexer": "ipython3",
   "version": "3.12.6"
  }
 },
 "nbformat": 4,
 "nbformat_minor": 5
}
